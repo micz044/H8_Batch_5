{
 "cells": [
  {
   "cell_type": "markdown",
   "metadata": {},
   "source": [
    "SHA256:+DiY3wvvV6TuJJhbpZisF/zLDA0zPMSvHdkr4UvCOqU"
   ]
  },
  {
   "cell_type": "code",
   "execution_count": 1,
   "metadata": {},
   "outputs": [],
   "source": [
    "import numpy as np"
   ]
  },
  {
   "cell_type": "code",
   "execution_count": 1,
   "metadata": {},
   "outputs": [
    {
     "name": "stdout",
     "output_type": "stream",
     "text": [
      "10 bertipe <class 'int'>\n",
      "1.7 bertipe <class 'float'>\n",
      "(1+2j)  Bertipe bilangan kompleks?  True\n"
     ]
    }
   ],
   "source": [
    "a = 10\n",
    "print(a, \"bertipe\", type(a))\n",
    "b = 1.7\n",
    "print(b, \"bertipe\", type(b))\n",
    "c = 1+2j\n",
    "print(c, \" Bertipe bilangan kompleks? \", isinstance(1+2j,complex))"
   ]
  },
  {
   "cell_type": "code",
   "execution_count": 2,
   "metadata": {},
   "outputs": [
    {
     "name": "stdout",
     "output_type": "stream",
     "text": [
      "Nama Saya adalah Dicoding\n",
      "Umur Dicoding adalah 5 tahun.\n"
     ]
    }
   ],
   "source": [
    "nama = \"Dicoding\"\n",
    "umur = 5\n",
    "print(\"Nama Saya adalah\", nama) \n",
    "print(\"Umur %s adalah %d tahun.\" % (nama, umur))"
   ]
  },
  {
   "cell_type": "code",
   "execution_count": 5,
   "metadata": {},
   "outputs": [
    {
     "name": "stdout",
     "output_type": "stream",
     "text": [
      "Nilai yang anda masukkan adalah 11.0\n"
     ]
    }
   ],
   "source": [
    "nilai = input('Masukkan nilai yang anda inginkan = ')\n",
    "print('Nilai yang anda masukkan adalah', float(nilai))"
   ]
  }
 ],
 "metadata": {
  "kernelspec": {
   "display_name": "base",
   "language": "python",
   "name": "python3"
  },
  "language_info": {
   "codemirror_mode": {
    "name": "ipython",
    "version": 3
   },
   "file_extension": ".py",
   "mimetype": "text/x-python",
   "name": "python",
   "nbconvert_exporter": "python",
   "pygments_lexer": "ipython3",
   "version": "3.9.13"
  },
  "orig_nbformat": 4
 },
 "nbformat": 4,
 "nbformat_minor": 2
}
